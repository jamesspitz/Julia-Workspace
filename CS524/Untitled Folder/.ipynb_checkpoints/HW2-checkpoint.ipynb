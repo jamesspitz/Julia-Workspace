{
 "cells": [
  {
   "cell_type": "code",
   "execution_count": 3,
   "metadata": {},
   "outputs": [
    {
     "data": {
      "text/plain": [
       "18000"
      ]
     },
     "execution_count": 3,
     "metadata": {},
     "output_type": "execute_result"
    }
   ],
   "source": [
    "using JuMP, Clp, NamedArrays\n",
    "\n",
    "\n",
    "foods = [:corn, :potatoes, :sugarcane]\n",
    "nutrients = [:carb, :prot, :sug]\n",
    "prodsteps = [:pulv, :melt, :powder, :paste]\n",
    "prodcost = [:0.4, :0.08, :0.65, :0.21]\n",
    "costfoodkg = [:0.11, :0.12, :0.09]\n",
    "\n",
    "nut_matrix = [0.057 0.082 0.061\n",
    "              0.061 0.034 0.018\n",
    "              0.033 0.007 0.15] \n",
    "\n",
    "prodcosts = Dict(zip(prodsteps, prodcost))\n",
    "foodnuts= Dict(zip(foods, costfoodkg))\n",
    "\n",
    "reqpowder = 14000\n",
    "reqpaste = 18000\n",
    "\n"
   ]
  },
  {
   "cell_type": "code",
   "execution_count": null,
   "metadata": {},
   "outputs": [],
   "source": [
    "using JuMP, Clp, NamedArrays\n",
    "\n",
    "\n",
    "m = Model(solver=ClpSolver())\n",
    "\n",
    "@variable = (m, food[foods] >= 0)\n",
    "\n",
    "\n",
    "\n",
    "@constraint(m, sum(nut_matrix[1][1] * food[:corn] + nut_matrix[1][2] * food[:potatoes] + nut_matrix[1][3] * food[:corn]) >=  0.042)\n",
    "@constraint(m, sum(nut_matrix[2][1] * food[:corn] + nut_matrix[2][2] * food[:potatoes] + nut_matrix[2][3] * food[:corn]) >=  0.035)\n",
    "@constraint(m, sum(nut_matrix[3][1] * food[:corn] + nut_matrix[3][2] * food[:potatoes] + nut_matrix[3][3] * food[:corn]) <=  0.052)\n",
    "\n",
    "@constraint(m, food[:corn] <= 12300)\n",
    "@constraint(m, food[:potatoes] <= 16000)\n",
    "@constraint(m, food[:sugarcane] <= 9000)\n",
    "\n",
    "@variable(m, powdercost = sum(0.4 * food[:corn] + 0.4 * food[:potatoes] + 0.08 * food[i] + 0.65 * food[i] for i in foods))\n",
    "@variable(m, pastecost = sum(0.4 * food[:corn] + 0.4 * food[:potatoes] + 0.08 * food[i] + 0.21 * food[i] for i in foods))\n",
    "\n",
    "@constraint(m, powder >= 14000)\n",
    "@constraint(m, paste >= 18000)\n",
    "\n",
    "@objective(m, Min, pastecost + powdercost)\n",
    "\n",
    "\n",
    "#@variable(m, powdcost[foods] = sum(prodcost[:pulv] * food[i] + foodcost[i] * food[i]))\n",
    "#@variable(m, pastcost[foods] = sum(prodcost[i] * food[i] + foodcost[] * food[i]))\n",
    "\n",
    "\n",
    "\n",
    "\n"
   ]
  },
  {
   "cell_type": "code",
   "execution_count": 21,
   "metadata": {},
   "outputs": [
    {
     "ename": "LoadError",
     "evalue": "\u001b[91mUndefVarError: invit not defined\u001b[39m",
     "output_type": "error",
     "traceback": [
      "\u001b[91mUndefVarError: invit not defined\u001b[39m",
      "",
      "Stacktrace:",
      " [1] \u001b[1mmacro expansion\u001b[22m\u001b[22m at \u001b[1mC:\\\\\\\\\\\\\\\\\\\\\\\\\\\\\\\\\\\\\\\\\\\\\\\\\\\\\\\\\\\\\\\\\\\\\\\\\\\\\\\\\\\\\\\\\\\\\\\\\\\\\\\\\\\\\\Users\\Owner\\AppData\\Local\\JuliaPro-0.6.4.1\\pkgs-0.6.4.1\\v0.6\\JuMP\\src\\macros.jl:422\u001b[22m\u001b[22m [inlined]",
      " [2] \u001b[1manonymous\u001b[22m\u001b[22m at \u001b[1m.\\<missing>:?\u001b[22m\u001b[22m"
     ]
    }
   ],
   "source": [
    "# make lists of products and months in planning horizon\n",
    "prods = [:panther, :penguin, :panda, :pangolin]\n",
    "months = [:1,:2,:3,:4,:5,:6]\n",
    "# make dictionary of demand each month for each product\n",
    "demand = Dict()\n",
    "demand[:panther] = Dict(zip(months,[1350,3000,2500,3500,1500,2000]))\n",
    "demand[:panda] = Dict(zip(months,[2500,1700,3000,1800,1300,2000]))\n",
    "demand[:penguin] = Dict(zip(months,[1200,600,800,800,1100,900]))\n",
    "demand[:pangolin] = Dict(zip(months,[1500,1700,1400,900,1000,1900]))\n",
    "# make dictionary mapping each product to its production cost\n",
    "cprod = Dict(zip(prods,[22,26,15,19]))\n",
    "# make dictionary mapping each product to its inventory cost\n",
    "cstore = Dict(zip(prods,[0.5,0.4,0.3,0.3]))\n",
    "# make dictionary mapping each product to its starting inventory\n",
    "inv_init = Dict(zip(prods,[25,0,5,0]))\n",
    "# make dictionary mapping each product to its ending inventory\n",
    "inv_end = Dict(zip(prods,[100,15,10,10]));\n",
    "\n",
    "\n",
    "# Objective: min operating costs per plushie for 6 mo\n",
    "\n",
    "m = Model(solver=ClpSolver())\n",
    "\n",
    "\n",
    "@variable(m, prod[prods, months] >= 0 )\n",
    "@variable(m, inv[prods, months] >= 0)\n",
    "\n",
    "@variable(m, prodinc[prods, months] >= 0)\n",
    "@variable(m, proddec[prods, months] >= 0)\n",
    "\n",
    "@constraint(m, balance[i in prods, j in 2:6], inv[i, j-1] + prod[i ,j] ==demand[i][j] +inv[i, j])\n",
    "@constraint(m, init_balance[i in prods], inv[i][1] + prod[i,1] == demand[i][1] + inv[i, 1])\n",
    "@constraint(m, final_balance[i in prods], inv[i,5] + prod[i,6] == demand[i][6] + inv_end[i]))\n",
    "@constraint(m, main[i in prods, j in 2:6], prod[i, j-1] + prodinc[i, j] - proddec[i,j] == prod[i,j])\n",
    "\n",
    "\n",
    "\n",
    "@objective(m, Min, sum(cost_prod[i]*prod[i,j] +0.75(prodinc[i,j]) + 0.40(proddec[i,j]) + demand[i][j] * cprod[i] +cstore[i] * prod[i,j] for i in prods, j in months)))\n",
    "\n",
    "solve(m)\n",
    "\n",
    "\n",
    "\n"
   ]
  },
  {
   "cell_type": "code",
   "execution_count": 19,
   "metadata": {},
   "outputs": [
    {
     "name": "stderr",
     "output_type": "stream",
     "text": [
      "\u001b[1m\u001b[33mWARNING: \u001b[39m\u001b[22m\u001b[33mA variable or constraint named prodinc is already attached to this model. If creating variables programmatically, use the anonymous variable syntax x = @variable(m, [1:N], ...).\u001b[39m\n",
      "\u001b[1m\u001b[33mWARNING: \u001b[39m\u001b[22m\u001b[33mA variable or constraint named proddec is already attached to this model. If creating variables programmatically, use the anonymous variable syntax x = @variable(m, [1:N], ...).\u001b[39m\n",
      "\u001b[1m\u001b[33mWARNING: \u001b[39m\u001b[22m\u001b[33mA variable or constraint named backlog is already attached to this model. If creating variables programmatically, use the anonymous variable syntax x = @variable(m, [1:N], ...).\u001b[39m\n",
      "\u001b[1m\u001b[33mWARNING: \u001b[39m\u001b[22m\u001b[33mA variable or constraint named balance is already attached to this model. If creating constraints programmatically, use the anonymous constraint syntax con = @constraint(m, ...).\u001b[39m\n"
     ]
    },
    {
     "ename": "LoadError",
     "evalue": "\u001b[91mIndexed into a JuMPArray with 1 indices (expected 2 indices)\u001b[39m",
     "output_type": "error",
     "traceback": [
      "\u001b[91mIndexed into a JuMPArray with 1 indices (expected 2 indices)\u001b[39m",
      "",
      "Stacktrace:",
      " [1] \u001b[1merror\u001b[22m\u001b[22m\u001b[1m(\u001b[22m\u001b[22m::String\u001b[1m)\u001b[22m\u001b[22m at \u001b[1m.\\error.jl:21\u001b[22m\u001b[22m",
      " [2] \u001b[1mgetindex(...)\u001b[22m\u001b[22m at \u001b[1mC:\\\\\\\\\\\\\\\\\\\\\\\\\\\\\\\\\\\\\\\\\\\\\\\\\\\\\\\\\\\\\\\\\\\\\\\\\\\\\\\\\\\\\\\\\\\\\\\\\\\\\\\\\\\\\\Users\\Owner\\AppData\\Local\\JuliaPro-0.6.4.1\\pkgs-0.6.4.1\\v0.6\\JuMP\\src\\JuMPArray.jl:41\u001b[22m\u001b[22m",
      " [3] \u001b[1mmacro expansion\u001b[22m\u001b[22m at \u001b[1mC:\\\\\\\\\\\\\\\\\\\\\\\\\\\\\\\\\\\\\\\\\\\\\\\\\\\\\\\\\\\\\\\\\\\\\\\\\\\\\\\\\\\\\\\\\\\\\\\\\\\\\\\\\\\\\\Users\\Owner\\AppData\\Local\\JuliaPro-0.6.4.1\\pkgs-0.6.4.1\\v0.6\\JuMP\\src\\macros.jl:422\u001b[22m\u001b[22m [inlined]",
      " [4] \u001b[1manonymous\u001b[22m\u001b[22m at \u001b[1m.\\<missing>:?\u001b[22m\u001b[22m"
     ]
    }
   ],
   "source": [
    "@variable(m, prodinc[prods, months] >= 0)\n",
    "@variable(m, proddec[prods, months] >= 0)\n",
    "@variable(m, backlog[prods, months] >= 0)\n",
    "\n",
    "\n",
    "\n",
    "@constraint(m, balance[i in prods, j in 2:6], inv[i, j-1] + prod[i ,j] ==demand[i][1] +inv[i, j])\n",
    "@constraint(m, init_balance[i in prods], inv[i] + prod[i,1] == demand[i][1] + inv[i, 1])\n",
    "@constraint(m, final_balance[i in prods], inv[i,5] + prod[i,1] == demand[i][1] + end_bal[i]))\n",
    "@constraint(m, main[i in prods, j in 2:6], prod[i, j-1] + prodinc[i, j] - proddec[i,j] == prod[i,j])\n",
    "@constraint(m, backlog[i in prods, j in 2:6], demand[i][1] - prod[i, j-1])\n",
    "\n",
    "\n"
   ]
  },
  {
   "cell_type": "code",
   "execution_count": null,
   "metadata": {},
   "outputs": [],
   "source": [
    "# Objective: min operating costs per plushie for 6 mo\n",
    "\n",
    "m = Model(solver=ClpSolver())\n",
    "\n",
    "@variable(m, postiveProd[t in 2:6])\n",
    "@variable(m, negativeProd)\n",
    "\n",
    "@constraint("
   ]
  },
  {
   "cell_type": "code",
   "execution_count": null,
   "metadata": {},
   "outputs": [],
   "source": [
    ": using Plots\n",
    "# set x coordinates and y coordinates for each friend\n",
    "x_coord = [20,18,0,35,2,11,33,2,4,12,7,26]\n",
    "y_coord = [8,13,5,7,11,15,22,7,10,0,6,21]\n",
    "# plot locations of friends on a \"map\"\n",
    "plot(x_coord,y_coord,seriestype=:scatter,markershape=:x,\n",
    " markersize=1,legend=false,series_annotations=[\"1\",\"2\",\"3\",\"4\",\"5\",\"6\",\"7\",\n",
    "\"8\",\"9\",\"10\",\"11\",\"12\",])"
   ]
  },
  {
   "cell_type": "code",
   "execution_count": null,
   "metadata": {},
   "outputs": [],
   "source": [
    "friends = [:1,:2,:3,:4,:5,:6,:7,:8,:9,:10,:11,:12] # list of friends\n",
    "# make a list of (x,y) coordinate pairs for each friend\n",
    "x_y_coord = [(x_coord[i],y_coord[i]) for i in friends]\n",
    "# make a dictionary that maps friends to their locations\n",
    "friend_x_y = Dict(zip(friends,x_y_coord))\n",
    "# make list of requested numbers of dice\n",
    "req = [5,7,16,4,11,15,8,10,1,6,18,7]\n",
    "# make list of numbers of dice each frient currently has\n",
    "has = [15,6,10,1,21,9,9,3,10,5,11,8]\n",
    "# make dictionaries mapping friends to their requested dice and current dice\n",
    "wants_dice = Dict(zip(friends,req))\n",
    "has_dice = Dict(zip(friends,has));\n"
   ]
  },
  {
   "cell_type": "code",
   "execution_count": 7,
   "metadata": {},
   "outputs": [
    {
     "data": {
      "text/plain": [
       "0.057"
      ]
     },
     "execution_count": 7,
     "metadata": {},
     "output_type": "execute_result"
    }
   ],
   "source": [
    "nut_matrix[1][1]"
   ]
  },
  {
   "cell_type": "code",
   "execution_count": null,
   "metadata": {},
   "outputs": [],
   "source": []
  }
 ],
 "metadata": {
  "kernelspec": {
   "display_name": "Julia 0.6.4",
   "language": "julia",
   "name": "julia-0.6"
  },
  "language_info": {
   "file_extension": ".jl",
   "mimetype": "application/julia",
   "name": "julia",
   "version": "0.6.4"
  }
 },
 "nbformat": 4,
 "nbformat_minor": 2
}
