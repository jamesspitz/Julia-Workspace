{
 "cells": [
  {
   "cell_type": "code",
   "execution_count": 2,
   "metadata": {},
   "outputs": [
    {
     "name": "stdout",
     "output_type": "stream",
     "text": [
      "  0.026020 seconds (70 allocations: 5.422 KiB)\n",
      "Optimal\n",
      "Value of X1: 1.4\n",
      "Value of X2: 0.0\n",
      "Value of X3: 2.8\n",
      "Value of X4: 0.0\n"
     ]
    }
   ],
   "source": [
    "using JuMP, Clp\n",
    "\n",
    "m = Model(solver=ClpSolver())\n",
    "\n",
    "@variable(m, x1 >= 0)\n",
    "@variable(m, x2 >= 0)\n",
    "@variable(m, x3)\n",
    "@variable(m, x4 >= 0)\n",
    "\n",
    "@objective(m, Min, x1 + x2 - 2*x3 + (1/3)x4)\n",
    "\n",
    "@constraint(m, 5 * x1 - 3 * x2 + x4 == 7)\n",
    "@constraint(m, 2*x1 + x2 + x3 >= 2)\n",
    "@constraint(m, x2 + (1/2)x3 <= x1)\n",
    "\n",
    "println(@time(solve(m)))\n",
    "\n",
    "println(\"Value of X1: \", getvalue(x1))\n",
    "println(\"Value of X2: \", getvalue(x2))\n",
    "println(\"Value of X3: \", getvalue(x3))\n",
    "println(\"Value of X4: \", getvalue(x4))\n"
   ]
  },
  {
   "cell_type": "code",
   "execution_count": 3,
   "metadata": {},
   "outputs": [
    {
     "name": "stdout",
     "output_type": "stream",
     "text": [
      "  0.001207 seconds (535 allocations: 34.375 KiB)\n",
      "Optimal\n",
      "Value of X1: 1.399999999984053\n",
      "Value of X2: -3.143276621278021e-12\n",
      "Value of X3: 2.8000000000083842\n",
      "Value of X4: 7.030730957563056e-11\n",
      "\n",
      "ECOS 2.0.5 - (C) embotech GmbH, Zurich Switzerland, 2012-15. Web: www.embotech.com/ECOS\n",
      "\n",
      "It     pcost       dcost      gap   pres   dres    k/t    mu     step   sigma     IR    |   BT\n",
      " 0  -4.716e+00  -1.499e+00  +4e+01  5e-01  5e-01  1e+00  7e+00    ---    ---    1  1  - |  -  - \n",
      " 1  -4.213e+00  -3.640e+00  +3e+00  3e-02  3e-02  4e-01  6e-01  0.9485  4e-02   1  1  1 |  0  0\n",
      " 2  -4.201e+00  -4.193e+00  +3e-02  3e-04  4e-04  6e-03  8e-03  0.9874  2e-04   1  1  1 |  0  0\n",
      " 3  -4.200e+00  -4.200e+00  +4e-04  3e-06  4e-06  6e-05  9e-05  0.9890  1e-04   1  1  1 |  0  0\n",
      " 4  -4.200e+00  -4.200e+00  +4e-06  4e-08  5e-08  7e-07  9e-07  0.9890  1e-04   1  0  0 |  0  0\n",
      " 5  -4.200e+00  -4.200e+00  +5e-08  4e-10  5e-10  8e-09  1e-08  0.9890  1e-04   1  0  0 |  0  0\n",
      " 6  -4.200e+00  -4.200e+00  +5e-10  5e-12  6e-12  9e-11  1e-10  0.9890  1e-04   1  0  0 |  0  0\n",
      "\n",
      "OPTIMAL (within feastol=5.6e-12, reltol=1.2e-10, abstol=5.0e-10).\n",
      "Runtime: 0.000240 seconds.\n",
      "\n"
     ]
    }
   ],
   "source": [
    "using JuMP, ECOS\n",
    "\n",
    "m = Model(solver=ECOSSolver())\n",
    "\n",
    "@variable(m, x1 >= 0)\n",
    "@variable(m, x2 >= 0)\n",
    "@variable(m, x3)\n",
    "@variable(m, x4 >= 0)\n",
    "\n",
    "@objective(m, Min, x1 + x2 - 2*x3 + (1/3)x4)\n",
    "\n",
    "@constraint(m, 5 * x1 - 3 * x2 + x4 == 7)\n",
    "@constraint(m, 2*x1 + x2 + x3 >= 2)\n",
    "@constraint(m, x2 + (1/2)x3 <= x1)\n",
    "\n",
    "println(@time(solve(m)))\n",
    "\n",
    "println(\"Value of X1: \", getvalue(x1))\n",
    "println(\"Value of X2: \", getvalue(x2))\n",
    "println(\"Value of X3: \", getvalue(x3))\n",
    "println(\"Value of X4: \", getvalue(x4))"
   ]
  },
  {
   "cell_type": "code",
   "execution_count": 4,
   "metadata": {},
   "outputs": [
    {
     "name": "stderr",
     "output_type": "stream",
     "text": [
      "\u001b[1m\u001b[36mINFO: \u001b[39m\u001b[22m\u001b[36mPrecompiling module SCS.\n",
      "\u001b[39m"
     ]
    },
    {
     "name": "stdout",
     "output_type": "stream",
     "text": [
      " 13.122613 seconds (2.12 M allocations: 108.350 MiB, 0.97% gc time)\n",
      "Optimal\n",
      "Value of X1: 1.3999999889060737\n",
      "Value of X2: -1.9221557968958916e-9\n",
      "Value of X3: 2.7999999853096393\n",
      "Value of X4: 7.459669340021949e-9\n",
      "----------------------------------------------------------------------------\n",
      "\tSCS v2.0.2 - Splitting Conic Solver\n",
      "\t(c) Brendan O'Donoghue, Stanford University, 2012-2017\n",
      "----------------------------------------------------------------------------\n",
      "Lin-sys: sparse-indirect, nnz in A = 12, CG tol ~ 1/iter^(2.00)\n",
      "eps = 1.00e-05, alpha = 1.50, max_iters = 5000, normalize = 1, scale = 1.00\n",
      "acceleration_lookback = 20, rho_x = 1.00e-03\n",
      "Variables n = 4, constraints m = 6\n",
      "Cones:\tprimal zero / dual free vars: 1\n",
      "\tlinear vars: 5\n",
      "Setup time: 1.97e-03s\n",
      "----------------------------------------------------------------------------\n",
      " Iter | pri res | dua res | rel gap | pri obj | dua obj | kap/tau | time (s)\n",
      "----------------------------------------------------------------------------\n",
      "     0| 1.00e+19  3.02e+19  1.00e+00 -2.10e+20  5.08e+19  6.09e+19  3.24e-03 \n",
      "    40| 5.29e-09  1.15e-08  3.75e-09 -4.20e+00 -4.20e+00  4.50e-16  8.75e-03 \n",
      "----------------------------------------------------------------------------\n",
      "Status: Solved\n",
      "Timing: Solve time: 8.77e-03s\n",
      "\tLin-sys: avg # CG iterations: 1.76, avg solve time: 2.48e-06s\n",
      "\tCones: avg projection time: 6.07e-07s\n",
      "\tAcceleration: avg step time: 1.28e-04s\n",
      "----------------------------------------------------------------------------\n",
      "Error metrics:\n",
      "dist(s, K) = 2.2536e-16, dist(y, K*) = 0.0000e+00, s'y/|s||y| = -3.9264e-17\n",
      "primal res: |Ax + s - b|_2 / (1 + |b|_2) = 5.2908e-09\n",
      "dual res:   |A'y + c|_2 / (1 + |c|_2) = 1.1530e-08\n",
      "rel gap:    |c'x + b'y| / (1 + |c'x| + |b'y|) = 3.7493e-09\n",
      "----------------------------------------------------------------------------\n",
      "c'x = -4.2000, -b'y = -4.2000\n",
      "============================================================================\n"
     ]
    }
   ],
   "source": [
    "using JuMP, SCS\n",
    "\n",
    "m = Model(solver=SCSSolver())\n",
    "\n",
    "@variable(m, x1 >= 0)\n",
    "@variable(m, x2 >= 0)\n",
    "@variable(m, x3)\n",
    "@variable(m, x4 >= 0)\n",
    "\n",
    "@objective(m, Min, x1 + x2 - 2*x3 + (1/3)x4)\n",
    "\n",
    "@constraint(m, 5 * x1 - 3 * x2 + x4 == 7)\n",
    "@constraint(m, 2*x1 + x2 + x3 >= 2)\n",
    "@constraint(m, x2 + (1/2)x3 <= x1)\n",
    "\n",
    "println(@time(solve(m)))\n",
    "\n",
    "println(\"Value of X1: \", getvalue(x1))\n",
    "println(\"Value of X2: \", getvalue(x2))\n",
    "println(\"Value of X3: \", getvalue(x3))\n",
    "println(\"Value of X4: \", getvalue(x4))"
   ]
  },
  {
   "cell_type": "code",
   "execution_count": 5,
   "metadata": {},
   "outputs": [],
   "source": [
    "# The difference in runtime seems to be the result of the differences in precision of the different solvers. Clp had results of\n",
    "# only two significant figures, but it ran the fastest. Clp was followed by ECOS, then SCS in runtime; Precision increase \n",
    "# followed the same order.\n"
   ]
  },
  {
   "cell_type": "code",
   "execution_count": 2,
   "metadata": {},
   "outputs": [
    {
     "name": "stdout",
     "output_type": "stream",
     "text": [
      "  0.023016 seconds (70 allocations: 4.797 KiB)\n",
      "Optimal\n",
      "Square meters of leather: 2.499999999999991\n",
      "Square meters of iron: 15.000000000000004\n",
      "Total armor protection: 115.0\n"
     ]
    }
   ],
   "source": [
    "using JuMP, Clp\n",
    "\n",
    "m = Model(solver=ClpSolver())\n",
    "\n",
    "@variable(m, iron >= 0)\n",
    "@variable(m, leather >= 0)\n",
    "\n",
    "@objective(m, Max, 7*iron + 4*leather) # Total Protection per m^2\n",
    "\n",
    "@constraint(m, 9*iron + 6*leather <= 150) # Gold constraint\n",
    "@constraint(m, 5*iron + 2*leather <= 80) # Weight constraint\n",
    "\n",
    "println(@time(solve(m)))\n",
    "\n",
    "println(\"Square meters of leather: \", getvalue(leather)) \n",
    "println(\"Square meters of iron: \", getvalue(iron)) \n",
    "println(\"Total armor protection: \", getobjectivevalue(m))\n"
   ]
  },
  {
   "cell_type": "code",
   "execution_count": 1,
   "metadata": {},
   "outputs": [],
   "source": [
    "# Max protection parameters\n",
    "\n",
    "materials = [:iron, :leather] # Material types\n",
    "\n",
    "materialCost = Dict(:iron => 9, :leather => 6) # Cost per meters squared per material\n",
    "\n",
    "materialWeight = Dict(:iron => 5, :leather => 2) # Weight per meter squared of material\n",
    "\n",
    "materialProtection = Dict(:iron => 7, :leather => 4) # protect per square meter\n",
    "\n",
    "# Fixed values\n",
    "\n",
    "playerGold = 150 # Max gold available\n",
    "carryWeight = 80; # Max carry weight of character"
   ]
  },
  {
   "cell_type": "code",
   "execution_count": 4,
   "metadata": {},
   "outputs": [
    {
     "name": "stdout",
     "output_type": "stream",
     "text": [
      "Total protection: 115.0\n",
      "Iron used: 15.000000000000004\n",
      "Leather used: 2.499999999999991\n"
     ]
    }
   ],
   "source": [
    "using JuMP, Clp\n",
    "\n",
    "m = Model(solver=ClpSolver())\n",
    "\n",
    "@variable(m, material[materials] >= 0) # material variable\n",
    "\n",
    "@objective(m, Max, sum(materialProtection[i] * material[i] for i in materials))\n",
    "\n",
    "@constraint(m, sum(materialCost[i] * material[i] for i in materials) <= playerGold) # Gold constraint\n",
    "@constraint(m, sum(materialWeight[i] * material[i] for i in materials) <= carryWeight) # weight restriction\n",
    "\n",
    "status = solve(m)\n",
    "\n",
    "println(\"Total protection: \", getobjectivevalue(m))\n",
    "println(\"Iron used: \", getvalue(material[:iron]))\n",
    "println(\"Leather used: \", getvalue(material[:leather]))"
   ]
  },
  {
   "cell_type": "code",
   "execution_count": null,
   "metadata": {},
   "outputs": [],
   "source": []
  }
 ],
 "metadata": {
  "kernelspec": {
   "display_name": "Julia 0.6.4",
   "language": "julia",
   "name": "julia-0.6"
  },
  "language_info": {
   "file_extension": ".jl",
   "mimetype": "application/julia",
   "name": "julia",
   "version": "0.6.4"
  }
 },
 "nbformat": 4,
 "nbformat_minor": 2
}
