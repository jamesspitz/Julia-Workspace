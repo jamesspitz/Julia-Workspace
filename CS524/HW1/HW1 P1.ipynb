{
 "cells": [
  {
   "cell_type": "code",
   "execution_count": 5,
   "metadata": {},
   "outputs": [
    {
     "name": "stdout",
     "output_type": "stream",
     "text": [
      "  0.066890 seconds (70 allocations: 5.422 KiB)\n",
      "Optimal\n",
      "Value of X1 1.4\n",
      "Value of X2 0.0\n",
      "Value of X3 2.8\n",
      "Value of X4 0.0\n"
     ]
    }
   ],
   "source": [
    "using JuMP, Clp\n",
    "\n",
    "m = Model(solver=ClpSolver())\n",
    "\n",
    "@variable(m, x1 >= 0)\n",
    "@variable(m, x2 >= 0)\n",
    "@variable(m, x3)\n",
    "@variable(m, x4 >= 0)\n",
    "\n",
    "@objective(m, Min, x1 + x2 - 2*x3 + (1/3)x4)\n",
    "\n",
    "@constraint(m, 5 * x1 - 3 * x2 + x4 == 7)\n",
    "@constraint(m, 2*x1 + x2 + x3 >= 2)\n",
    "@constraint(m, x2 + (1/2)x3 <= x1)\n",
    "\n",
    "println(@time(solve(m)))\n",
    "\n",
    "println(\"Value of X1: \", getvalue(x1))\n",
    "println(\"Value of X2: \", getvalue(x2))\n",
    "println(\"Value of X3: \", getvalue(x3))\n",
    "println(\"Value of X4: \", getvalue(x4))\n"
   ]
  },
  {
   "cell_type": "code",
   "execution_count": null,
   "metadata": {},
   "outputs": [],
   "source": []
  }
 ],
 "metadata": {
  "kernelspec": {
   "display_name": "Julia 0.6.4",
   "language": "julia",
   "name": "julia-0.6"
  },
  "language_info": {
   "file_extension": ".jl",
   "mimetype": "application/julia",
   "name": "julia",
   "version": "0.6.4"
  }
 },
 "nbformat": 4,
 "nbformat_minor": 2
}
