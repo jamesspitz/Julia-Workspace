{
 "cells": [
  {
   "cell_type": "markdown",
   "metadata": {},
   "source": [
    "# Homework \\#1\n",
    "Due June 26 @ 11:59pm\n",
    "\n",
    "## Submission requirements\n",
    "Upload a **single PDF file** of your IJulia notebook for this entire assigment. Clearly denote which question each section of your PDF corresponds to."
   ]
  },
  {
   "cell_type": "markdown",
   "metadata": {},
   "source": [
    "## Problem 1 - Getting started with Julia\n",
    "\n",
    "Model the following problem in JuMP:\n",
    "\n",
    "$\\begin{align*}\n",
    "\\underset{x_1,x_2,x_3,x_4}{\\min} \\ & x_1 + x_2 - 2x_3 + (1/3)x_4& \\\\\n",
    "\\text{s.t.} \\ & 5x_1 - 3x_2 + x_4 = 7 &\\\\\n",
    "& 2x_1 + x_2 + x_3 \\geq 2 &\\\\\n",
    "& x_1 \\geq x_2 + 0.5x_3 & \\\\\n",
    "& x_1, x_2, x_4 \\geq 0\n",
    "\\end{align*}$\n",
    "\n",
    "Solve this problem using Clp, ECOS, and SCS solvers.  Compare the answers found by each solver by answering the following:  \n",
    "* Which solver is more accurate?  \n",
    "* Which is fastest (use the @time macro)? \n",
    "    * Can you speculate as to why? \n",
    "* If there is no clear difference between the solvers, can you think of some factors that might contribute to solver speed differences? \n"
   ]
  },
  {
   "cell_type": "markdown",
   "metadata": {},
   "source": [
    "## Problem 2 - Dungeons, Dragons, and Decision Variables\n",
    "\n",
    "Prof. Smith has a bit of a conundrum. She is playing a 5th-level Halfling Paladin in her Dungeons and Dragons campaign and has the opportunity to craft her own armor using a combination of iron and leather. Prof. Smith's Halfling has a budget of 150 gold pieces. The Halfling character isn't very strong and can carry a maximimum of 80kg. Each square meter of material has an associated protection rating. Optimization nerd that she is, Prof. Smith would like to build her armor with the available material to maximize the total protection rating. Iron and leather vary in protection rating, cost, and weight:\n",
    "\n",
    "|Material | Cost per $m^2$ |Weight per $m^2$|Protection per $m^2$|\n",
    "|--------:|---------------:|---------------:|---------:|\n",
    "|Iron|9 gold|5kg|7|\n",
    "|Leather|6 gold|2kg|4|\n",
    "\n",
    "(a)  Formulate a linear program to help Prof. Smith figure out how many $m^2$ (square meters) of each type of material she should purchase to maximize her total armor protection rating. State the math model, then code and solve the model using Julia.\n",
    "\n",
    "(b)  Code the same model once again, this time separating the parameters from the solution as we did in class (see Top Brass examples).  Confirm that you obtain the same solution as in part (a).  \n",
    "\n",
    "(c)  Solve  the  problem  graphically  by  plotting  the  feasible  set  and  contour  lines  for  the  objective function.  Confirm that you obtain the same solution as in the previous parts.\n"
   ]
  },
  {
   "cell_type": "markdown",
   "metadata": {},
   "source": [
    "## Problem 3 - Standard Form\n",
    "\n",
    "Consider the following LP:\n",
    "\n",
    "$\\begin{align*}\n",
    "\\underset{x_1,x_2,x_3}{\\min} \\ & x_1 + 7x_2 - x_3 & \\\\\n",
    "\\text{s.t.} \\ & x_1 - 2 \\geq -x_2\\\\\n",
    "& x_1 - x_2 + 0.5x_3 = 4\\\\\n",
    "& 1 \\leq x_1 \\leq 8 & \\\\\n",
    "& -15 \\leq x_3 \\leq -5 & \\\\\n",
    "& x_2 \\text{ free} & \n",
    "\\end{align*}$\n",
    "\n",
    "\n",
    "(a) Convert the problem to standard form.\n",
    "\n",
    "(b) What are $A$, $b$, $c$,and $x$?  Be sure to explain how the decision variables of your transformed LP relate to those of the original LP. \n",
    "\n",
    "(c) Solve the standard-form LP in Julia and report the objective value and the value of each decision variable in an optimal solution to the original LP. "
   ]
  }
 ],
 "metadata": {
  "kernelspec": {
   "display_name": "Julia 0.6.4",
   "language": "julia",
   "name": "julia-0.6"
  },
  "language_info": {
   "file_extension": ".jl",
   "mimetype": "application/julia",
   "name": "julia",
   "version": "0.6.4"
  }
 },
 "nbformat": 4,
 "nbformat_minor": 2
}
