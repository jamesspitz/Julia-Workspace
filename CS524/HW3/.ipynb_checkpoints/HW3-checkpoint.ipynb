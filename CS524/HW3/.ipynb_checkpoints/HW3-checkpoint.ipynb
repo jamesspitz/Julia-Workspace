{
 "cells": [
  {
   "cell_type": "code",
   "execution_count": null,
   "metadata": {},
   "outputs": [],
   "source": [
    "using JuMP, Clp, NamedArrays\n",
    "\n",
    "num_orders = 160 # total orders\n",
    "w = [:M, :P, :S, :N] # warehouses\n",
    "dc = [:A, :L, :B] # distribution centers\n",
    "modes = [:air, :rail] # possible modes of transportation\n",
    "max_w_cap = Dict(zip(w,[45,50,70,30])) # capacity of each warehouse\n",
    "\n",
    "nodes = [:M, :P, :S, :N, :A,:L, :B] # fill in nodes\n",
    "arcs = Dict(zip(modes,[[(:M,:A), (:M,:L), (:P,:A), (:P,:L), (:P,:B), (:S,:B), (:N,:A), (:N,:L)],\n",
    "    [(:P,:A), (:P,:L), (:N,:A),(:N,:B)]])); # fill in arcs. you might want to use tuples -- e.g., arc from node\n",
    "                                                                #1 to node2: (:node1,:node2)\n",
    "\n",
    "\n",
    "m = Model(solver=ClpSolver())\n",
    "\n",
    "\n"
   ]
  },
  {
   "cell_type": "code",
   "execution_count": null,
   "metadata": {},
   "outputs": [],
   "source": [
    "# Index matrix\n",
    "#10 x 16\n",
    "A = [1  1  1  0  0  0  0  0  0  0  0  0  0  0  0  0 #1\n",
    "     0  0  0  1  1  0  0  0  0  0  0  0  0  0  0  0 #2\n",
    "    -1  0  0  0  0  1  1  0  0  0  0  0  0  0  0  0 #3\n",
    "     0 -1  0 -1  0  0  0  1  1  0  0  0  0  0  0  0 #4\n",
    "     0  0 -1  0 -1 -1  0 -1  0  1  1  1  0  0  0  0 #5\n",
    "     0  0  0  0  0  0  0  0 -1  0  0  0  1  1  0  0 #6\n",
    "     0  0  0  0  0  0 -1  0  0  0  0  0  0  0  1  1 #7\n",
    "     0  0  0  0  0  0  0  0  0 -1  0  0  0  0 -1  0 #K\n",
    "     0  0  0  0  0  0  0  0  0  0 -1  0 -1  0  0 -1 #C\n",
    "     0  0  0  0  0  0  0  0  0  0  0 -1  0 -1  0  0] #T\n",
    "\n",
    "#Dummy Arc\n",
    "\n",
    "A = [A[-1 -1 0 0 0 0 0 1 1 1]]"
   ]
  }
 ],
 "metadata": {
  "kernelspec": {
   "display_name": "Julia 0.6.4",
   "language": "julia",
   "name": "julia-0.6"
  },
  "language_info": {
   "file_extension": ".jl",
   "mimetype": "application/julia",
   "name": "julia",
   "version": "0.6.4"
  }
 },
 "nbformat": 4,
 "nbformat_minor": 2
}
